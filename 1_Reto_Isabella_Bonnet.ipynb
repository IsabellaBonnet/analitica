{
  "nbformat": 4,
  "nbformat_minor": 0,
  "metadata": {
    "colab": {
      "provenance": [],
      "authorship_tag": "ABX9TyMAHpWYhvvyHWUAaI4ev88+",
      "include_colab_link": true
    },
    "kernelspec": {
      "name": "python3",
      "display_name": "Python 3"
    },
    "language_info": {
      "name": "python"
    }
  },
  "cells": [
    {
      "cell_type": "markdown",
      "metadata": {
        "id": "view-in-github",
        "colab_type": "text"
      },
      "source": [
        "<a href=\"https://colab.research.google.com/github/IsabellaBonnet/analitica/blob/main/1_Reto_Isabella_Bonnet.ipynb\" target=\"_parent\"><img src=\"https://colab.research.google.com/assets/colab-badge.svg\" alt=\"Open In Colab\"/></a>"
      ]
    },
    {
      "cell_type": "markdown",
      "source": [
        "**Modelo de Clasificación Naive Bayes**\n",
        "\n",
        "0. Se procede con la carga de las librerias de trabajo"
      ],
      "metadata": {
        "id": "XbPmouDIOut3"
      }
    },
    {
      "cell_type": "code",
      "execution_count": null,
      "metadata": {
        "id": "CYpSOhqsOjig"
      },
      "outputs": [],
      "source": [
        "# Importar las librerías necesarias\n",
        "import pandas as pd #Comunicación con Excel\n",
        "import numpy as np #Funciones Matemáticas\n",
        "from sklearn.model_selection import train_test_split\n",
        "from sklearn.naive_bayes import GaussianNB #Función Gaussiana\n",
        "from sklearn.metrics import confusion_matrix #Métricas de medida\n",
        "from sklearn.metrics import classification_report, accuracy_score"
      ]
    },
    {
      "cell_type": "markdown",
      "source": [
        "1. se cargan los datos"
      ],
      "metadata": {
        "id": "RLUDrY_zPFCT"
      }
    },
    {
      "cell_type": "code",
      "source": [
        "nxl=\"/content/1. BD1_Longitudinal Survey_Int.xlsx\"\n",
        "XDB=pd.read_excel(nxl,sheet_name=0).dropna() #Traigo los datos\n",
        " #Eliminar datos faltantes, celdas vacias\n",
        "\n",
        "#Seleccionamos las variables de interes\n",
        "XDB=XDB[['Age','Mother_Edu','Father_Edu','Height','Weight','Income','Self_Esteem','FamilySize','Urban']]\n",
        "XDB\n",
        "\n",
        "#Datos de Entrada\n",
        "XD=XDB[['Age','Mother_Edu','Father_Edu','Height','Weight','Income','Self_Esteem','FamilySize']]\n",
        "#Datos de salida - Valor deseado\n",
        "yd=np.array(XDB['Urban'] )\n",
        "print (XDB)"
      ],
      "metadata": {
        "colab": {
          "base_uri": "https://localhost:8080/"
        },
        "id": "GmwGpbyfPG5B",
        "outputId": "77255055-f1b1-4b46-ad91-e2f5c647229f"
      },
      "execution_count": null,
      "outputs": [
        {
          "output_type": "stream",
          "name": "stdout",
          "text": [
            "       Age  Mother_Edu  Father_Edu  Height  Weight   Income  Self_Esteem  \\\n",
            "1       20         5.0         8.0    62.0   120.0      0.0         16.0   \n",
            "5       19        12.0        12.0    64.0   200.0  40000.0         27.0   \n",
            "6       15        12.0        12.0    65.0   131.0  25000.0         26.0   \n",
            "7       21         9.0         6.0    65.0   179.0  27400.0         23.0   \n",
            "8       16        12.0        10.0    66.0   145.0  52000.0         26.0   \n",
            "...    ...         ...         ...     ...     ...      ...          ...   \n",
            "12557   20        12.0        12.0    60.0   110.0   1000.0         20.0   \n",
            "12565   20        12.0        11.0    63.0   152.0  38000.0         24.0   \n",
            "12647   21        16.0        12.0    70.0   180.0  43600.0         30.0   \n",
            "12651   21        16.0        16.0    73.0   170.0  40000.0         27.0   \n",
            "12678   21         8.0         8.0    70.0   180.0  17000.0         19.0   \n",
            "\n",
            "       FamilySize  Urban  \n",
            "1               5    1.0  \n",
            "5               4    1.0  \n",
            "6               3    1.0  \n",
            "7               3    1.0  \n",
            "8               6    1.0  \n",
            "...           ...    ...  \n",
            "12557           5    1.0  \n",
            "12565           2    1.0  \n",
            "12647           1    1.0  \n",
            "12651           1    1.0  \n",
            "12678           1    0.0  \n",
            "\n",
            "[5683 rows x 9 columns]\n"
          ]
        }
      ]
    },
    {
      "cell_type": "markdown",
      "source": [
        "2. Implementar Modelo"
      ],
      "metadata": {
        "id": "7GyTadgTQhlE"
      }
    },
    {
      "cell_type": "code",
      "source": [
        "mnb=GaussianNB() #Llamamos el modelo\n",
        "mnb.fit(XD,yd)\n",
        "ydp=mnb.predict(XD) #Muestra los datos de slaida - pero que el obtuvo\n",
        "\n",
        "#Parametros del modelo por categoria\n",
        "u=mnb.theta_ #Se estiman las medias\n",
        "sigma=np.sqrt(mnb.var_) #Se estiman las varianzas\n",
        "\n",
        "#Las variaciones de las variables\n",
        "LI=u-sigma\n",
        "LS=u+sigma\n",
        "\n",
        "print('La media de las variables por categoria:')\n",
        "print (u)\n",
        "print('El limite inferior de la variación de las variables por categoria es:')\n",
        "print(LI)\n",
        "print('El limite superior de la variación de las variables por categoria es:')\n",
        "print (LS)\n",
        "\n",
        "#Métrica de evaluación - Como se comporto el modelo identificando rural-urban\n",
        "cm=confusion_matrix(yd,ydp) #El modelo se equivoco en el 1171 falsos positivos y 4 falsos negativos\n",
        "print('La matriz de confusión es:')\n",
        "print(cm)\n"
      ],
      "metadata": {
        "colab": {
          "base_uri": "https://localhost:8080/"
        },
        "id": "OMfz54ezV6KX",
        "outputId": "f6a630fe-a957-4d58-9715-d403ae8fa6fc"
      },
      "execution_count": null,
      "outputs": [
        {
          "output_type": "stream",
          "name": "stdout",
          "text": [
            "La media de las variables por categoria:\n",
            "[[1.83810742e+01 1.07612958e+01 1.03324808e+01 6.72148338e+01\n",
            "  1.48857630e+02 3.03672506e+04 2.20272805e+01 4.74168798e+00]\n",
            " [1.83569845e+01 1.11769401e+01 1.12565410e+01 6.69031042e+01\n",
            "  1.44760976e+02 3.34278929e+04 2.26004435e+01 4.68780488e+00]]\n",
            "El limite inferior de la variación de las variables por categoria es:\n",
            "[[ 1.58996876e+01  7.58892579e+00  6.46311334e+00  6.31369799e+01\n",
            "   1.18746964e+02 -1.33465823e+03  1.78344685e+01  2.16621834e+00]\n",
            " [ 1.58811112e+01  7.79013864e+00  7.15097738e+00  6.26897933e+01\n",
            "   1.14669654e+02 -2.69533531e+03  1.84154526e+01  2.24996381e+00]]\n",
            "El limite superior de la variación de las variables por categoria es:\n",
            "[[2.08624608e+01 1.39336659e+01 1.42018483e+01 7.12926877e+01\n",
            "  1.78968296e+02 6.20691595e+04 2.62200925e+01 7.31715762e+00]\n",
            " [2.08328577e+01 1.45637416e+01 1.53621047e+01 7.11164151e+01\n",
            "  1.74852297e+02 6.95511211e+04 2.67854344e+01 7.12564594e+00]]\n",
            "La matriz de confusión es:\n",
            "[[   2 1171]\n",
            " [   4 4506]]\n"
          ]
        }
      ]
    },
    {
      "cell_type": "code",
      "source": [
        "total_datos = XDB.shape[0]\n",
        "print(f'El total de datos que hay en la base de datos es: {total_datos}')\n"
      ],
      "metadata": {
        "colab": {
          "base_uri": "https://localhost:8080/"
        },
        "id": "LBkpJBBNmHXm",
        "outputId": "394148d8-dc17-42ea-d336-5375621a855b"
      },
      "execution_count": null,
      "outputs": [
        {
          "output_type": "stream",
          "name": "stdout",
          "text": [
            "El total de datos que hay en la base de datos es: 5683\n"
          ]
        }
      ]
    },
    {
      "cell_type": "code",
      "source": [
        "total_datos_urbanos = XDB[XDB['Urban'] == 1].shape[0]\n",
        "print('total datos urbanos:',total_datos_urbanos)\n",
        "\n",
        "tasa_urbanos = total_datos_urbanos / total_datos\n",
        "print(f'La proporción de personas que residen en el área urbana es de: {tasa_urbanos}')"
      ],
      "metadata": {
        "colab": {
          "base_uri": "https://localhost:8080/"
        },
        "id": "87DxOJVMnXoT",
        "outputId": "ab35f6b0-327d-4c6b-9bc1-c7cc66c27c6a"
      },
      "execution_count": null,
      "outputs": [
        {
          "output_type": "stream",
          "name": "stdout",
          "text": [
            "total datos urbanos: 4510\n",
            "La proporción de personas que residen en el área urbana es de: 0.7935949322540912\n"
          ]
        }
      ]
    },
    {
      "cell_type": "code",
      "source": [
        "total_datos_rural = XDB[XDB['Urban'] == 0].shape[0]\n",
        "print('total datos rural:',total_datos_rural)\n",
        "\n",
        "tasa_rural = total_datos_rural / total_datos\n",
        "print(f'La proporción de personas que residen en el área rural es de: {tasa_rural}')"
      ],
      "metadata": {
        "colab": {
          "base_uri": "https://localhost:8080/"
        },
        "id": "BUrsuS-moebZ",
        "outputId": "cdea6ccc-605b-461a-cfcd-6943114d6355"
      },
      "execution_count": null,
      "outputs": [
        {
          "output_type": "stream",
          "name": "stdout",
          "text": [
            "total datos rural: 1173\n",
            "La proporción de personas que residen en el área rural es de: 0.20640506774590886\n"
          ]
        }
      ]
    },
    {
      "cell_type": "markdown",
      "source": [
        "**El total de datos que hay en la base de datos es:** 5683\n",
        "\n",
        "**El total datos urbanos es:** 4510\n",
        "\n",
        "**La proporción de personas que residen en el área urbana es de:** 0.7935949322540912\n",
        "\n",
        "**El total datos rural es:** 1173\n",
        "\n",
        "**La proporción de personas que residen en el área rural es de:** 0.20640506774590886\n",
        "\n",
        "\n",
        "---\n",
        "\n",
        "\n",
        "**Intervalo en el cual se encuentra la variacion de la edad**\n",
        "*   **Limite inferior en urbano:** 1.58996876e+01\n",
        "*   **Limite superior en urbano:** 2.08624608e+01\n",
        "*   **Limite inferior en rural:**  1.58811112e+01\n",
        "*   **Limite superior en rural:** 2.08328577e+01\n",
        "\n",
        "\n",
        "**Intervalo en el cual se encuentra la altura**\n",
        "*   **Limite inferior en urbano:** 6.31369799e+01\n",
        "*   **Limite superior en urbano:** 7.12926877e+01\n",
        "*   **Limite inferior en rural:** 6.26897933e+01\n",
        "*   **Limite superior en rural:** 7.11164151e+01\n",
        "\n",
        "**Intervalo en el cual se encuentra el peso**\n",
        "*   **Limite inferior en urbano:** 1.48857630e+02\n",
        "*   **Limite superior en urbano:** 1.78968296e+02\n",
        "*   **Limite inferior en rural:** 1.14669654e+02\n",
        "*   **Limite superior en rural:**  1.74852297e+02\n",
        "\n",
        "\n",
        "\n",
        "\n",
        "\n",
        "\n",
        "\n",
        "\n"
      ],
      "metadata": {
        "id": "pMyP9R_iWA8S"
      }
    },
    {
      "cell_type": "markdown",
      "source": [
        "3. Se procede con la evaluación del modelo"
      ],
      "metadata": {
        "id": "c-l6o1iWeLYD"
      }
    },
    {
      "cell_type": "code",
      "source": [
        "VN=cm[0,0] #Verdaderos negativos\n",
        "FP=cm[0,1] #Falsos positivos\n",
        "FN=cm[1,0] #Falsos negativos\n",
        "VP=cm[1,1] #Verdaderos positivos\n",
        "\n",
        "Exactitud=(VP+VN)/len(XD)\n",
        "print('La Exactitud es:',Exactitud) #Comportamiento general\n",
        "\n",
        "TE=(FN+FP)/len(XD)\n",
        "print('La Tasa de Error es:',TE) #Porcentaje de Equivocaciones\n",
        "\n",
        "Sensibilidad=VP/(VP+FP)\n",
        "print('La Sensibilidad es:',Sensibilidad) #Como se comporto frente a los positivos\n",
        "\n",
        "Especificidad=VN/(VN+FN)\n",
        "print('La Especificidad es:',Especificidad) #Como se comportaron frente a los negativos"
      ],
      "metadata": {
        "colab": {
          "base_uri": "https://localhost:8080/"
        },
        "id": "2B54FbyRdrnn",
        "outputId": "8a5771e0-d066-4dba-97ab-41283430bec3"
      },
      "execution_count": null,
      "outputs": [
        {
          "output_type": "stream",
          "name": "stdout",
          "text": [
            "La Exactitud es: 0.7932430054548654\n",
            "La Tasa de Error es: 0.2067569945451346\n",
            "La Sensibilidad es: 0.793729082261758\n",
            "La Especificidad es: 0.3333333333333333\n"
          ]
        }
      ]
    },
    {
      "cell_type": "markdown",
      "source": [
        "**La Exactitud es:** 0.7932430054548654\n",
        "\n",
        "**La Tasa de Error es:** 0.2067569945451346\n",
        "\n",
        "**La Sensibilidad es:** 0.793729082261758\n",
        "\n",
        "**La Especificidad es:** 0.3333333333333333"
      ],
      "metadata": {
        "id": "inZMq4RNd6At"
      }
    },
    {
      "cell_type": "markdown",
      "source": [
        "**Análisis**\n",
        "\n",
        "De los resultados arrojados por el modelo, se puede observar que en general, este tiene un buen desempeño, debido a que tiene una alta sensibilidad (79,37%) y exactitud (79,32%). Sin embargo, es importante mencionar que el modelo  tiene una tasa de error del 20,68%, el cual funcionó mejor clasificando\n",
        "positivos, evidenciándose con la variable de la especificidad que evalúa la acertividad del modelo encontranto negativos, la cual es baja (33,33%). El modelo predijo correctamente 4508 instancias (2 verdaderos negativos + 4506 verdaderos positivos).\n",
        "El modelo se equivocó en 1175 instancias (1171 falsos positivos + 4 falsos negativos).\n",
        "\n",
        "\n"
      ],
      "metadata": {
        "id": "TEdoCH_lmD71"
      }
    },
    {
      "cell_type": "markdown",
      "source": [
        "4. ¿Qué pasa con una sola persona?"
      ],
      "metadata": {
        "id": "MuSzk-GYev9x"
      }
    },
    {
      "cell_type": "code",
      "source": [
        "Xun=np.array([[34,9,6,65,135,50000,30,3]]) #datos quiz Interactiva\n",
        "ydun=mnb.predict(Xun)\n",
        "print(f'Para una alguien con dichas características: {ydun}, quiere decir que vive en una zona urbana')"
      ],
      "metadata": {
        "colab": {
          "base_uri": "https://localhost:8080/"
        },
        "id": "UV-zZhZPZB7i",
        "outputId": "4932c7f2-88ee-438a-e35f-52d465849d45"
      },
      "execution_count": null,
      "outputs": [
        {
          "output_type": "stream",
          "name": "stdout",
          "text": [
            "Para una alguien con dichas características: [1.], quiere decir que vive en una zona urbana\n"
          ]
        },
        {
          "output_type": "stream",
          "name": "stderr",
          "text": [
            "/usr/local/lib/python3.10/dist-packages/sklearn/base.py:465: UserWarning: X does not have valid feature names, but GaussianNB was fitted with feature names\n",
            "  warnings.warn(\n"
          ]
        }
      ]
    }
  ]
}