{
  "nbformat": 4,
  "nbformat_minor": 0,
  "metadata": {
    "colab": {
      "provenance": [],
      "authorship_tag": "ABX9TyO4gmIsE9Hulk0LZpRVInh7",
      "include_colab_link": true
    },
    "kernelspec": {
      "name": "python3",
      "display_name": "Python 3"
    },
    "language_info": {
      "name": "python"
    }
  },
  "cells": [
    {
      "cell_type": "markdown",
      "metadata": {
        "id": "view-in-github",
        "colab_type": "text"
      },
      "source": [
        "<a href=\"https://colab.research.google.com/github/IsabellaBonnet/analitica/blob/main/2_Modelo_Arbol_Clase.ipynb\" target=\"_parent\"><img src=\"https://colab.research.google.com/assets/colab-badge.svg\" alt=\"Open In Colab\"/></a>"
      ]
    },
    {
      "cell_type": "markdown",
      "source": [
        "**Arboles de decisión**\n",
        "\n",
        "0. Cargar las librerias de referencia para el modelo"
      ],
      "metadata": {
        "id": "-jQGE5I0miai"
      }
    },
    {
      "cell_type": "code",
      "execution_count": null,
      "metadata": {
        "colab": {
          "base_uri": "https://localhost:8080/"
        },
        "id": "kxPGBO6fmQ05",
        "outputId": "2f371f49-1271-41b8-8ce7-91c1d6c7b29d"
      },
      "outputs": [
        {
          "output_type": "stream",
          "name": "stdout",
          "text": [
            "Drive already mounted at /content/drive; to attempt to forcibly remount, call drive.mount(\"/content/drive\", force_remount=True).\n"
          ]
        }
      ],
      "source": [
        "import pandas as pd\n",
        "import numpy as np\n",
        "import matplotlib.pyplot as plt #Graficador de cosas\n",
        "from sklearn.tree import DecisionTreeClassifier\n",
        "\n",
        "#Para no tener que cargar el archivo\n",
        "from google.colab import drive\n",
        "drive.mount('/content/drive')\n",
        "\n"
      ]
    },
    {
      "cell_type": "markdown",
      "source": [
        "1. se procede con la carga de los datos del archivo SolicitantesCrédito"
      ],
      "metadata": {
        "id": "Idf9gtZopL25"
      }
    },
    {
      "cell_type": "code",
      "source": [
        "nxl='/content/drive/MyDrive/ACTUAL SEMESTRE/ANÁLITICA DE NEGOCIOS /Archivos /SolicitantesCrédito(USD)-2.xlsx'\n",
        "XDB=pd.read_excel(nxl,sheet_name=1)\n",
        "XDB=XDB.dropna()\n",
        "XDB.head(100)\n",
        "\n",
        "#Se procede con la selección de las variables de trabajo\n",
        "XD=np.array(XDB[['Edad','Ingresos','Egresos','Monto (EAD)']]) #datos entrada #Fixed typo: added closing parenthesis\n",
        "print(XD)\n",
        "yd=np.array(XDB['PreApr']) #datos salida, el dato que quiero que el modelo pronostique\n",
        "print(yd)"
      ],
      "metadata": {
        "colab": {
          "base_uri": "https://localhost:8080/"
        },
        "id": "jOUdcPerpQUD",
        "outputId": "e67d82e9-14af-447a-e2f1-77138bbd6515"
      },
      "execution_count": null,
      "outputs": [
        {
          "output_type": "stream",
          "name": "stdout",
          "text": [
            "[[  38.         1356.144      1685.62266667  625.56223022]\n",
            " [  51.          286.016       364.462       140.03198442]\n",
            " [  37.          517.46325     629.20888889  284.56449156]\n",
            " ...\n",
            " [  38.          773.01975     672.91066667  594.94789369]\n",
            " [  43.          635.50175     780.69155556  305.58053861]\n",
            " [  37.         1419.26675    1169.83844444 1005.63687051]]\n",
            "[1 1 0 ... 1 1 1]\n"
          ]
        }
      ]
    },
    {
      "cell_type": "markdown",
      "source": [
        "2. Creación del modelo-decision Tree\n",
        "\n"
      ],
      "metadata": {
        "id": "p9ID03S2sUuz"
      }
    },
    {
      "source": [
        "mar=DecisionTreeClassifier(criterion='gini',max_depth=4) #4 niveles o variables de entrada\n",
        "mar.fit(XD,yd)\n",
        "ypd=mar.predict(XD)\n",
        "\n",
        "from sklearn.metrics import confusion_matrix\n",
        "cm=confusion_matrix(yd,ypd)\n",
        "print(cm)\n",
        "\n",
        "#Eavaluamos el modelo\n",
        "VN=cm[0][0]\n",
        "FP=cm[0][1]\n",
        "FN=cm[1][0]\n",
        "VP=cm[1][1]\n",
        "Ex= (VN+VP)/(VN+VP+FN+FP) #que porcentaje de los datos pronosticó correctamente VN y VP es cuantos les pegó el modelo\n",
        "print('La exactitud alcanzada por el modelo es:', Ex)\n",
        "Se=VP/(FN+VP) #como le fue con los positivos\n",
        "print('La sensibilidad alcanzada por el modelo es:', Se)\n",
        "Es=VN/(VN+FP) #como le fue con los negativos\n",
        "print('La especificidad alcanzada por el modelo es:', Es)\n"
      ],
      "cell_type": "code",
      "metadata": {
        "colab": {
          "base_uri": "https://localhost:8080/"
        },
        "id": "W_WlrPCjrseS",
        "outputId": "048bdf90-5250-4b96-f83f-93288cb20f0c"
      },
      "execution_count": null,
      "outputs": [
        {
          "output_type": "stream",
          "name": "stdout",
          "text": [
            "[[2301  658]\n",
            " [ 644 2239]]\n",
            "La exactitud alcanzada por el modelo es: 0.7771311194796303\n",
            "La sensibilidad alcanzada por el modelo es: 0.7766215747485259\n",
            "La especificidad alcanzada por el modelo es: 0.7776275768840825\n"
          ]
        }
      ]
    },
    {
      "cell_type": "markdown",
      "source": [
        "3. ¿Y dónde está el Árbol?"
      ],
      "metadata": {
        "id": "-KOPW3wYvzE-"
      }
    },
    {
      "cell_type": "code",
      "source": [
        "from sklearn.tree import export_graphviz\n",
        "from pydotplus import graph_from_dot_data\n",
        "\n",
        "vs=['Edad','Ingresos','Egresos','Monto (EAD)'] #son los titulos para los nodos\n",
        "dot_graph=export_graphviz(mar,feature_names=vs)\n",
        "graph=graph_from_dot_data(dot_graph)\n",
        "graph.write_png('arbol.png')"
      ],
      "metadata": {
        "colab": {
          "base_uri": "https://localhost:8080/"
        },
        "id": "Jttfd-8fv2kU",
        "outputId": "132ceeb1-9446-407c-e7f8-9876f8a85ddd"
      },
      "execution_count": null,
      "outputs": [
        {
          "output_type": "execute_result",
          "data": {
            "text/plain": [
              "True"
            ]
          },
          "metadata": {},
          "execution_count": 23
        }
      ]
    },
    {
      "cell_type": "markdown",
      "source": [
        "4. se procede con el pronóstico de los nuevos solicitantes"
      ],
      "metadata": {
        "id": "84_yj2XQ6Ve7"
      }
    },
    {
      "cell_type": "code",
      "source": [
        "XDB2=pd.read_excel(nxl,sheet_name=2)\n",
        "XDB2=XDB2.dropna()\n",
        "XDB2.head(100)\n",
        "XD2=np.array(XDB2[['Edad','Ingresos','Egresos','Monto (EAD)']])\n",
        "print(XD2)\n",
        "\n",
        "\n",
        "#pronosticamos la PreAprobación\n",
        "ydp2=mar.predict(XD2)\n",
        "print(ydp2)\n",
        "print('El numero de PreAprobados es:',np.sum(ydp2))\n",
        "print('El numero de PreNegados es:',len(ydp2)-np.sum(ydp2))\n",
        "print('El numero de total de Datos es:',len(ydp2))"
      ],
      "metadata": {
        "colab": {
          "base_uri": "https://localhost:8080/"
        },
        "id": "WRCxwQkr6cwj",
        "outputId": "82370d7d-e428-465c-bbee-c5e208cbf444"
      },
      "execution_count": null,
      "outputs": [
        {
          "output_type": "stream",
          "name": "stdout",
          "text": [
            "[[  38.          383.67775     368.59866667  175.84723507]\n",
            " [  47.           34.1875       38.03444444   26.95587069]\n",
            " [  46.         1774.305      2116.72377778  705.43470796]\n",
            " ...\n",
            " [  32.          283.26575     170.26644444  225.30034584]\n",
            " [  35.          768.288       847.26444444  479.16423193]\n",
            " [  24.          487.598       376.18355556  424.283721  ]]\n",
            "[0 0 1 ... 0 1 0]\n",
            "El numero de PreAprobados es: 1260\n",
            "El numero de PreNegados es: 1276\n",
            "El numero de total de Datos es: 2536\n"
          ]
        }
      ]
    },
    {
      "cell_type": "markdown",
      "source": [
        "**Análisis de resultados**\n",
        "\n",
        "de acuerdo con la base de datos suministrada, se puede observar un total de datos y el nodo base del arbol de decisión  se puede observar un total de 5842 datos, divididos en 2959 Pre Aprobados y un total de 288 PreNegados, esto representa el 51% y el 49% respectivamente.\n",
        "\n",
        "De acuerdo con el pronóstico realizado por el modelo, este alcanzó una exactitud cercana al 77%, valores que fueron similares a la sensibilidad que mide el comportamiento del modelo frente a la clasificación de los Pre Aprobados, así como frente a la Especificidad, indicador que mide el comportamiento del modelo frente a la clasificación de los Pre Negados.\n",
        "\n",
        "Se destaca el único Nodo Puro (PreNeg:10, PreApr:0), en donde los solicitantes de crédito deben cumplir con la siguiente regla: SI Ing>644 AND Egr<=685 and Ing>376 and Monto<=322.\n",
        "\n",
        "Con respecto al pronóstico, se puede observar un total de 2536 individuos sin Aprovación, de los cuales un total de 1260 pueden ser PreAprobados y un total de 1276 que pueden ser PreNegados."
      ],
      "metadata": {
        "id": "S5TyOYVA8jKj"
      }
    }
  ]
}